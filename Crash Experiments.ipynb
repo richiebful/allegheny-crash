{
 "cells": [
  {
   "cell_type": "code",
   "execution_count": 21,
   "metadata": {
    "collapsed": false
   },
   "outputs": [
    {
     "ename": "ValueError",
     "evalue": "cannot safely convert passed user dtype of int64 for float64 dtyped data in column 68",
     "output_type": "error",
     "traceback": [
      "\u001b[0;31m---------------------------------------------------------------------------\u001b[0m",
      "\u001b[0;31mValueError\u001b[0m                                Traceback (most recent call last)",
      "\u001b[0;32m<ipython-input-21-6a658db6bbe8>\u001b[0m in \u001b[0;36m<module>\u001b[0;34m()\u001b[0m\n\u001b[1;32m     41\u001b[0m            \u001b[0;34m\"WZ_FLAGGER\"\u001b[0m\u001b[0;34m:\u001b[0m \u001b[0;34m\"str\"\u001b[0m\u001b[0;34m,\u001b[0m \u001b[0;34m\"WZ_LAW_OFFCR_IND\"\u001b[0m\u001b[0;34m:\u001b[0m \u001b[0;34m\"str\"\u001b[0m\u001b[0;34m,\u001b[0m \u001b[0;34m\"WZ_LN_CLOSURE\"\u001b[0m\u001b[0;34m:\u001b[0m \u001b[0;34m\"str\"\u001b[0m\u001b[0;34m,\u001b[0m \u001b[0;34m\"WZ_MOVING\"\u001b[0m\u001b[0;34m:\u001b[0m \u001b[0;34m\"str\"\u001b[0m\u001b[0;34m,\u001b[0m \u001b[0;34m\"WZ_OTHER\"\u001b[0m\u001b[0;34m:\u001b[0m \u001b[0;34m\"str\"\u001b[0m\u001b[0;34m,\u001b[0m\u001b[0;34m\u001b[0m\u001b[0m\n\u001b[1;32m     42\u001b[0m            \"WZ_SHLDER_MDN\": \"str\" }\n\u001b[0;32m---> 43\u001b[0;31m \u001b[0mdf\u001b[0m \u001b[0;34m=\u001b[0m \u001b[0mpandas\u001b[0m\u001b[0;34m.\u001b[0m\u001b[0mread_csv\u001b[0m\u001b[0;34m(\u001b[0m\u001b[0;34m'crash2015.csv'\u001b[0m\u001b[0;34m,\u001b[0m \u001b[0msep\u001b[0m\u001b[0;34m=\u001b[0m\u001b[0;34m','\u001b[0m\u001b[0;34m,\u001b[0m \u001b[0mdtype\u001b[0m\u001b[0;34m=\u001b[0m\u001b[0mcrashDD\u001b[0m\u001b[0;34m)\u001b[0m\u001b[0;34m\u001b[0m\u001b[0m\n\u001b[0m",
      "\u001b[0;32m/usr/lib64/python2.7/site-packages/pandas/io/parsers.pyc\u001b[0m in \u001b[0;36mparser_f\u001b[0;34m(filepath_or_buffer, sep, delimiter, header, names, index_col, usecols, squeeze, prefix, mangle_dupe_cols, dtype, engine, converters, true_values, false_values, skipinitialspace, skiprows, nrows, na_values, keep_default_na, na_filter, verbose, skip_blank_lines, parse_dates, infer_datetime_format, keep_date_col, date_parser, dayfirst, iterator, chunksize, compression, thousands, decimal, lineterminator, quotechar, quoting, escapechar, comment, encoding, dialect, tupleize_cols, error_bad_lines, warn_bad_lines, skipfooter, skip_footer, doublequote, delim_whitespace, as_recarray, compact_ints, use_unsigned, low_memory, buffer_lines, memory_map, float_precision)\u001b[0m\n\u001b[1;32m    643\u001b[0m                     skip_blank_lines=skip_blank_lines)\n\u001b[1;32m    644\u001b[0m \u001b[0;34m\u001b[0m\u001b[0m\n\u001b[0;32m--> 645\u001b[0;31m         \u001b[0;32mreturn\u001b[0m \u001b[0m_read\u001b[0m\u001b[0;34m(\u001b[0m\u001b[0mfilepath_or_buffer\u001b[0m\u001b[0;34m,\u001b[0m \u001b[0mkwds\u001b[0m\u001b[0;34m)\u001b[0m\u001b[0;34m\u001b[0m\u001b[0m\n\u001b[0m\u001b[1;32m    646\u001b[0m \u001b[0;34m\u001b[0m\u001b[0m\n\u001b[1;32m    647\u001b[0m     \u001b[0mparser_f\u001b[0m\u001b[0;34m.\u001b[0m\u001b[0m__name__\u001b[0m \u001b[0;34m=\u001b[0m \u001b[0mname\u001b[0m\u001b[0;34m\u001b[0m\u001b[0m\n",
      "\u001b[0;32m/usr/lib64/python2.7/site-packages/pandas/io/parsers.pyc\u001b[0m in \u001b[0;36m_read\u001b[0;34m(filepath_or_buffer, kwds)\u001b[0m\n\u001b[1;32m    398\u001b[0m         \u001b[0;32mreturn\u001b[0m \u001b[0mparser\u001b[0m\u001b[0;34m\u001b[0m\u001b[0m\n\u001b[1;32m    399\u001b[0m \u001b[0;34m\u001b[0m\u001b[0m\n\u001b[0;32m--> 400\u001b[0;31m     \u001b[0mdata\u001b[0m \u001b[0;34m=\u001b[0m \u001b[0mparser\u001b[0m\u001b[0;34m.\u001b[0m\u001b[0mread\u001b[0m\u001b[0;34m(\u001b[0m\u001b[0;34m)\u001b[0m\u001b[0;34m\u001b[0m\u001b[0m\n\u001b[0m\u001b[1;32m    401\u001b[0m     \u001b[0mparser\u001b[0m\u001b[0;34m.\u001b[0m\u001b[0mclose\u001b[0m\u001b[0;34m(\u001b[0m\u001b[0;34m)\u001b[0m\u001b[0;34m\u001b[0m\u001b[0m\n\u001b[1;32m    402\u001b[0m     \u001b[0;32mreturn\u001b[0m \u001b[0mdata\u001b[0m\u001b[0;34m\u001b[0m\u001b[0m\n",
      "\u001b[0;32m/usr/lib64/python2.7/site-packages/pandas/io/parsers.pyc\u001b[0m in \u001b[0;36mread\u001b[0;34m(self, nrows)\u001b[0m\n\u001b[1;32m    936\u001b[0m                 \u001b[0;32mraise\u001b[0m \u001b[0mValueError\u001b[0m\u001b[0;34m(\u001b[0m\u001b[0;34m'skipfooter not supported for iteration'\u001b[0m\u001b[0;34m)\u001b[0m\u001b[0;34m\u001b[0m\u001b[0m\n\u001b[1;32m    937\u001b[0m \u001b[0;34m\u001b[0m\u001b[0m\n\u001b[0;32m--> 938\u001b[0;31m         \u001b[0mret\u001b[0m \u001b[0;34m=\u001b[0m \u001b[0mself\u001b[0m\u001b[0;34m.\u001b[0m\u001b[0m_engine\u001b[0m\u001b[0;34m.\u001b[0m\u001b[0mread\u001b[0m\u001b[0;34m(\u001b[0m\u001b[0mnrows\u001b[0m\u001b[0;34m)\u001b[0m\u001b[0;34m\u001b[0m\u001b[0m\n\u001b[0m\u001b[1;32m    939\u001b[0m \u001b[0;34m\u001b[0m\u001b[0m\n\u001b[1;32m    940\u001b[0m         \u001b[0;32mif\u001b[0m \u001b[0mself\u001b[0m\u001b[0;34m.\u001b[0m\u001b[0moptions\u001b[0m\u001b[0;34m.\u001b[0m\u001b[0mget\u001b[0m\u001b[0;34m(\u001b[0m\u001b[0;34m'as_recarray'\u001b[0m\u001b[0;34m)\u001b[0m\u001b[0;34m:\u001b[0m\u001b[0;34m\u001b[0m\u001b[0m\n",
      "\u001b[0;32m/usr/lib64/python2.7/site-packages/pandas/io/parsers.pyc\u001b[0m in \u001b[0;36mread\u001b[0;34m(self, nrows)\u001b[0m\n\u001b[1;32m   1503\u001b[0m     \u001b[0;32mdef\u001b[0m \u001b[0mread\u001b[0m\u001b[0;34m(\u001b[0m\u001b[0mself\u001b[0m\u001b[0;34m,\u001b[0m \u001b[0mnrows\u001b[0m\u001b[0;34m=\u001b[0m\u001b[0mNone\u001b[0m\u001b[0;34m)\u001b[0m\u001b[0;34m:\u001b[0m\u001b[0;34m\u001b[0m\u001b[0m\n\u001b[1;32m   1504\u001b[0m         \u001b[0;32mtry\u001b[0m\u001b[0;34m:\u001b[0m\u001b[0;34m\u001b[0m\u001b[0m\n\u001b[0;32m-> 1505\u001b[0;31m             \u001b[0mdata\u001b[0m \u001b[0;34m=\u001b[0m \u001b[0mself\u001b[0m\u001b[0;34m.\u001b[0m\u001b[0m_reader\u001b[0m\u001b[0;34m.\u001b[0m\u001b[0mread\u001b[0m\u001b[0;34m(\u001b[0m\u001b[0mnrows\u001b[0m\u001b[0;34m)\u001b[0m\u001b[0;34m\u001b[0m\u001b[0m\n\u001b[0m\u001b[1;32m   1506\u001b[0m         \u001b[0;32mexcept\u001b[0m \u001b[0mStopIteration\u001b[0m\u001b[0;34m:\u001b[0m\u001b[0;34m\u001b[0m\u001b[0m\n\u001b[1;32m   1507\u001b[0m             \u001b[0;32mif\u001b[0m \u001b[0mself\u001b[0m\u001b[0;34m.\u001b[0m\u001b[0m_first_chunk\u001b[0m\u001b[0;34m:\u001b[0m\u001b[0;34m\u001b[0m\u001b[0m\n",
      "\u001b[0;32mpandas/parser.pyx\u001b[0m in \u001b[0;36mpandas.parser.TextReader.read (pandas/parser.c:9884)\u001b[0;34m()\u001b[0m\n",
      "\u001b[0;32mpandas/parser.pyx\u001b[0m in \u001b[0;36mpandas.parser.TextReader._read_low_memory (pandas/parser.c:10142)\u001b[0;34m()\u001b[0m\n",
      "\u001b[0;32mpandas/parser.pyx\u001b[0m in \u001b[0;36mpandas.parser.TextReader._read_rows (pandas/parser.c:11161)\u001b[0;34m()\u001b[0m\n",
      "\u001b[0;32mpandas/parser.pyx\u001b[0m in \u001b[0;36mpandas.parser.TextReader._convert_column_data (pandas/parser.c:12536)\u001b[0;34m()\u001b[0m\n",
      "\u001b[0;32mpandas/parser.pyx\u001b[0m in \u001b[0;36mpandas.parser.TextReader._convert_tokens (pandas/parser.c:13910)\u001b[0;34m()\u001b[0m\n",
      "\u001b[0;31mValueError\u001b[0m: cannot safely convert passed user dtype of int64 for float64 dtyped data in column 68"
     ]
    }
   ],
   "source": [
    "import pandas\n",
    "crashDD = {\"ACCESS_CTRL\": \"str\", \"ADJ_RDWY_SEQ\": \"int\", \"AGGRESSIVE_DRIVING\": \"int\", \"ALCOHOL_RELATED\": \"int\",\n",
    "           \"AUTOMOBILE_COUNT\": \"int\", \"BELTED_DEATH_COUNT\": \"int\", \"BELTED_MAJ_INJ_COUNT\": \"int\", \"BICYCLE\": \"int\",\n",
    "           \"BICYCLE_COUNT\": \"int\", \"BICYCLE_DEATH_COUNT\": \"int\", \"BICYCLE_MAJ_INJ_COUNT\": \"int\", \"BUS_COUNT\": \"int\",\n",
    "           \"CELL_PHONE\": \"int\", \"COLLISION_TYPE\": \"int\", \"COMM_VEH_COUNT\": \"int\", \"COMM_VEHICLE\": \"int\",\n",
    "           \"CONS_ZONE_SPD_LIM\": \"str\", \"COUNTY\": \"str\", \"CRASH_CRN\": \"str\", \"CRASH_MONTH\": \"str\", \"CRASH_YEAR\": \"str\",\n",
    "           \"CRN\": \"int\", \"CROSS_MEDIAN\": \"int\", \"CURVE_DVR_ERROR\": \"int\", \"DAY_OF_WEEK\": \"str\", \"DEC_LAT\": \"str\",\n",
    "           \"DEC_LONG\": \"str\", \"DEER_RELATED\": \"int\", \"DISTRACTED\": \"int\", \"DISTRICT\": \"str\", \"DRINKING_DRIVER\": \"int\",\n",
    "           \"DRIVER_16YR\": \"int\", \"DRIVER_17YR\": \"int\", \"DRIVER_65_74YR\": \"int\", \"DRIVER_75PLUS\": \"int\",\n",
    "           \"DRIVER_COUNT_16YR\": \"int\", \"DRIVER_COUNT_17YR\": \"int\", \"DRIVER_COUNT_65_74YR\": \"int\", \"DRIVER_COUNT_75PLUS\": \"int\",\n",
    "           \"FATAL\": \"int\", \"FATAL_COUNT\": \"int\", \"FATAL_OR_MAJ_INJ\": \"int\", \"FATIGUE_ASLEEP\": \"int\", \"FIRE_IN_VEHICLE\": \"int\",\n",
    "           \"FLAG_CRN\": \"int\", \"HAZARDOUS_TRUCK\": \"int\", \"HEAVY_TRUCK_COUNT\": \"int\", \"HIT_BARRIER\": \"int\", \"HIT_BRIDGE\": \"int\",\n",
    "           \"HIT_DEER\": \"int\", \"HIT_EMBANKMENT\": \"int\", \"HIT_FIXED_OBJECT\": \"int\", \"HIT_GDRAIL\": \"int\", \"HIT_GDRAIL_END\": \"int\",\n",
    "           \"HIT_POLE\": \"int\", \"HIT_TREE_SHRUB\": \"int\", \"HO_OPPDIR_SDSWP\": \"int\", \"HOUR_OF_DAY\": \"str\", \n",
    "           \"HVY_TRUCK_RELATED\": \"int\", \"ICY_ROAD\": \"int\", \"ILLEGAL_DRUG_RELATED\": \"int\", \"ILLUMINATION\": \"str\",\n",
    "           \"ILLUMINATION_DARK\": \"int\", \"IMPAIRED_DRIVER\": \"int\", \"INJURY\": \"int\", \"INJURY_COUNT\": \"int\", \"INJURY_OR_FATAL\": \"int\",\n",
    "           \"INTERSECT_TYPE\": \"str\", \"INTERSECTION\": \"int\", \"INTERSTATE\": \"int\", \"LANE_CLOSED\": \"int\", \"LN_CLOSE_DIR\": \"int\",\n",
    "           \"LANE_COUNT\": \"int\", \"LATITUDE\": \"str\", \"LIMIT_65MPH\": \"int\", \"LOCAL_ROAD\": \"int\", \"LOCAL_ROAD_ONLY\": \"int\",\n",
    "           \"LOCATION_TYPE\": \"str\", \"LONGITUDE\": \"str\", \"MAJ_INJ_COUNT\": \"int\", \"MAJOR_INJURY\": \"int\", \n",
    "           \"MAX_SEVERITY_LEVEL\": \"str\", \"MC_DRINKING_DRIVER\": \"int\", \"BICYCLE_DEATH_COUNT\": \"int\", \n",
    "           \"MCYCLE_MAJ_INJ_COUNT\": \"int\", \"MIN_INJ_COUNT\": \"int\", \"MINOR_INJURY\": \"int\", \"MOD_INJ_COUNT\": \"int\",\n",
    "           \"MODERATE_INJURY\": \"int\", \"MOTORCYCLE\": \"int\", \"MOTORCYCLE_COUNT\": \"int\", \"MUNICIPALITY\": \"str\", \n",
    "           \"NHTSA_AGG_DRIVING\": \"int\", \"NO_CLEARANCE\": \"int\", \"NON_INTERSECTION\": \"int\", \"NTFY_HIWY_MAINT\": \"str\",\n",
    "           \"OFFSET\": \"str\", \"OVERTURNED\": \"int\", \"PED_COUNT\": \"int\", \"PED_DEATH_COUNT\": \"int\", \"PED_MAJ_INJ_COUNT\": \"int\",\n",
    "           \"PEDESTRIAN\": \"int\", \"PERSON_COUNT\": \"int\", \"PHANTOM_VEHICLE\": \"int\", \"POLICE_AGCY\": \"str\", \n",
    "           \"PROPERTY_DAMAGE_ONLY\": \"int\", \"PSP_REPORTED\": \"int\", \"RDWY_ORIENT\": \"str\", \"RDWY_SEQ_NUM\": \"int\",\n",
    "           \"RDWY_SURF_TYPE_CD\": \"str\", \"REAR_END\": \"int\", \"RELATION_TO_ROAD\": \"str\", \"ROAD_CONDITION\": \"str\",           \n",
    "           \"ROAD_OWNER\": \"str\", \"ROADWAY_COUNTY\": \"str\", \"ROADWAY_CRN\": \"int\", \"ROUTE\": \"str\", \"RUNNING_RED_LT\": \"int\",\n",
    "           \"RUNNING_STOP_SIGN\": \"int\", \"SCH_BUS_IND\": \"str\", \"SCH_ZONE_IND\": \"str\", \"SCHOOL_BUS\": \"int\", \n",
    "           \"SCHOOL_ZONE\": \"int\", \"SEGMENT\": \"str\", \"SHLDR_RELATED\": \"int\", \"SIGNALIZED_INT\": \"int\", \n",
    "           \"SMALL_TRUCK_COUNT\": \"int\", \"SNOW_SLUSH_ROAD\": \"int\", \"SPEC_JURIS_CD\": \"int\", \"SPEED_LIMIT\": \"str\",\n",
    "           \"SPEEDING\": \"int\", \"SPEEDING_RELATED\": \"int\", \"STATE_ROAD\": \"int\", \"STOP_CONTROLLED_INT\": \"int\",\n",
    "           \"STREET_NAME\": \"str\", \"SUDDEN_DEER\": \"int\", \"SUV_COUNT\": \"int\", \"SV_RUN_OFF_RD\": \"int\",\n",
    "           \"TAILGATING\": \"int\", \"TCD_FUNC_CD\": \"int\", \"TCD_TYPE\": \"str\", \"TFC_DETOUR_IND\": \"int\", \"TIME_OF_DAY\": \"str\",\n",
    "           \"TRAIN\": \"int\", \"TRAIN_TROLLEY\": \"int\", \"TROLLEY\": \"int\", \"TURNPIKE\": \"int\", \"UNB_DEATH_COUNT\": \"int\",\n",
    "           \"UNB_MAJ_INJ_COUNT\": \"int\", \"UNBELTED\": \"int\", \"UNBELTED_OCC_COUNT\": \"int\", \"UNDERAGE_DRNK_DRV\": \"int\",\n",
    "           \"UNK_INJ_DEG_COUNT\": \"int\", \"UNK_INJ_PER_COUNT\": \"int\", \"UNLICENSED\": \"int\", \"UNSIGNALIZED_INT\": \"int\",\n",
    "           \"URBAN_RURAL\": \"str\", \"VAN_COUNT\": \"int\", \"VEHICLE_COUNT\": \"int\", \"VEHICLE_FAILURE\": \"int\", \n",
    "           \"VEHICLE_TOWED\": \"int\", \"WEATHER\": \"str\", \"WET_ROAD\": \"int\", \"WORK_ZONE\": \"int\", \"WK_ZONE_IND\": \"str\",\n",
    "           \"WORK_ZONE_LOC\": \"int\", \"WORK_ZONE_TYPE\": \"int\", \"WORKERS_PRES\": \"str\", \"WZ_CLOSE_DETOUR\": \"str\", \n",
    "           \"WZ_FLAGGER\": \"str\", \"WZ_LAW_OFFCR_IND\": \"str\", \"WZ_LN_CLOSURE\": \"str\", \"WZ_MOVING\": \"str\", \"WZ_OTHER\": \"str\",\n",
    "           \"WZ_SHLDER_MDN\": \"str\" }\n",
    "df = pandas.read_csv('crash2015.csv', sep=',', dtype=crashDD)"
   ]
  },
  {
   "cell_type": "code",
   "execution_count": 9,
   "metadata": {
    "collapsed": false
   },
   "outputs": [
    {
     "ename": "KeyError",
     "evalue": "0",
     "output_type": "error",
     "traceback": [
      "\u001b[0;31m---------------------------------------------------------------------------\u001b[0m",
      "\u001b[0;31mKeyError\u001b[0m                                  Traceback (most recent call last)",
      "\u001b[0;32m<ipython-input-9-9ae93f22b889>\u001b[0m in \u001b[0;36m<module>\u001b[0;34m()\u001b[0m\n\u001b[0;32m----> 1\u001b[0;31m \u001b[0mdf\u001b[0m\u001b[0;34m[\u001b[0m\u001b[0;36m0\u001b[0m\u001b[0;34m]\u001b[0m\u001b[0;34m\u001b[0m\u001b[0m\n\u001b[0m",
      "\u001b[0;32m/usr/lib64/python2.7/site-packages/pandas/core/frame.pyc\u001b[0m in \u001b[0;36m__getitem__\u001b[0;34m(self, key)\u001b[0m\n\u001b[1;32m   2055\u001b[0m             \u001b[0;32mreturn\u001b[0m \u001b[0mself\u001b[0m\u001b[0;34m.\u001b[0m\u001b[0m_getitem_multilevel\u001b[0m\u001b[0;34m(\u001b[0m\u001b[0mkey\u001b[0m\u001b[0;34m)\u001b[0m\u001b[0;34m\u001b[0m\u001b[0m\n\u001b[1;32m   2056\u001b[0m         \u001b[0;32melse\u001b[0m\u001b[0;34m:\u001b[0m\u001b[0;34m\u001b[0m\u001b[0m\n\u001b[0;32m-> 2057\u001b[0;31m             \u001b[0;32mreturn\u001b[0m \u001b[0mself\u001b[0m\u001b[0;34m.\u001b[0m\u001b[0m_getitem_column\u001b[0m\u001b[0;34m(\u001b[0m\u001b[0mkey\u001b[0m\u001b[0;34m)\u001b[0m\u001b[0;34m\u001b[0m\u001b[0m\n\u001b[0m\u001b[1;32m   2058\u001b[0m \u001b[0;34m\u001b[0m\u001b[0m\n\u001b[1;32m   2059\u001b[0m     \u001b[0;32mdef\u001b[0m \u001b[0m_getitem_column\u001b[0m\u001b[0;34m(\u001b[0m\u001b[0mself\u001b[0m\u001b[0;34m,\u001b[0m \u001b[0mkey\u001b[0m\u001b[0;34m)\u001b[0m\u001b[0;34m:\u001b[0m\u001b[0;34m\u001b[0m\u001b[0m\n",
      "\u001b[0;32m/usr/lib64/python2.7/site-packages/pandas/core/frame.pyc\u001b[0m in \u001b[0;36m_getitem_column\u001b[0;34m(self, key)\u001b[0m\n\u001b[1;32m   2062\u001b[0m         \u001b[0;31m# get column\u001b[0m\u001b[0;34m\u001b[0m\u001b[0;34m\u001b[0m\u001b[0m\n\u001b[1;32m   2063\u001b[0m         \u001b[0;32mif\u001b[0m \u001b[0mself\u001b[0m\u001b[0;34m.\u001b[0m\u001b[0mcolumns\u001b[0m\u001b[0;34m.\u001b[0m\u001b[0mis_unique\u001b[0m\u001b[0;34m:\u001b[0m\u001b[0;34m\u001b[0m\u001b[0m\n\u001b[0;32m-> 2064\u001b[0;31m             \u001b[0;32mreturn\u001b[0m \u001b[0mself\u001b[0m\u001b[0;34m.\u001b[0m\u001b[0m_get_item_cache\u001b[0m\u001b[0;34m(\u001b[0m\u001b[0mkey\u001b[0m\u001b[0;34m)\u001b[0m\u001b[0;34m\u001b[0m\u001b[0m\n\u001b[0m\u001b[1;32m   2065\u001b[0m \u001b[0;34m\u001b[0m\u001b[0m\n\u001b[1;32m   2066\u001b[0m         \u001b[0;31m# duplicate columns & possible reduce dimensionality\u001b[0m\u001b[0;34m\u001b[0m\u001b[0;34m\u001b[0m\u001b[0m\n",
      "\u001b[0;32m/usr/lib64/python2.7/site-packages/pandas/core/generic.pyc\u001b[0m in \u001b[0;36m_get_item_cache\u001b[0;34m(self, item)\u001b[0m\n\u001b[1;32m   1384\u001b[0m         \u001b[0mres\u001b[0m \u001b[0;34m=\u001b[0m \u001b[0mcache\u001b[0m\u001b[0;34m.\u001b[0m\u001b[0mget\u001b[0m\u001b[0;34m(\u001b[0m\u001b[0mitem\u001b[0m\u001b[0;34m)\u001b[0m\u001b[0;34m\u001b[0m\u001b[0m\n\u001b[1;32m   1385\u001b[0m         \u001b[0;32mif\u001b[0m \u001b[0mres\u001b[0m \u001b[0;32mis\u001b[0m \u001b[0mNone\u001b[0m\u001b[0;34m:\u001b[0m\u001b[0;34m\u001b[0m\u001b[0m\n\u001b[0;32m-> 1386\u001b[0;31m             \u001b[0mvalues\u001b[0m \u001b[0;34m=\u001b[0m \u001b[0mself\u001b[0m\u001b[0;34m.\u001b[0m\u001b[0m_data\u001b[0m\u001b[0;34m.\u001b[0m\u001b[0mget\u001b[0m\u001b[0;34m(\u001b[0m\u001b[0mitem\u001b[0m\u001b[0;34m)\u001b[0m\u001b[0;34m\u001b[0m\u001b[0m\n\u001b[0m\u001b[1;32m   1387\u001b[0m             \u001b[0mres\u001b[0m \u001b[0;34m=\u001b[0m \u001b[0mself\u001b[0m\u001b[0;34m.\u001b[0m\u001b[0m_box_item_values\u001b[0m\u001b[0;34m(\u001b[0m\u001b[0mitem\u001b[0m\u001b[0;34m,\u001b[0m \u001b[0mvalues\u001b[0m\u001b[0;34m)\u001b[0m\u001b[0;34m\u001b[0m\u001b[0m\n\u001b[1;32m   1388\u001b[0m             \u001b[0mcache\u001b[0m\u001b[0;34m[\u001b[0m\u001b[0mitem\u001b[0m\u001b[0;34m]\u001b[0m \u001b[0;34m=\u001b[0m \u001b[0mres\u001b[0m\u001b[0;34m\u001b[0m\u001b[0m\n",
      "\u001b[0;32m/usr/lib64/python2.7/site-packages/pandas/core/internals.pyc\u001b[0m in \u001b[0;36mget\u001b[0;34m(self, item, fastpath)\u001b[0m\n\u001b[1;32m   3518\u001b[0m \u001b[0;34m\u001b[0m\u001b[0m\n\u001b[1;32m   3519\u001b[0m             \u001b[0;32mif\u001b[0m \u001b[0;32mnot\u001b[0m \u001b[0misnull\u001b[0m\u001b[0;34m(\u001b[0m\u001b[0mitem\u001b[0m\u001b[0;34m)\u001b[0m\u001b[0;34m:\u001b[0m\u001b[0;34m\u001b[0m\u001b[0m\n\u001b[0;32m-> 3520\u001b[0;31m                 \u001b[0mloc\u001b[0m \u001b[0;34m=\u001b[0m \u001b[0mself\u001b[0m\u001b[0;34m.\u001b[0m\u001b[0mitems\u001b[0m\u001b[0;34m.\u001b[0m\u001b[0mget_loc\u001b[0m\u001b[0;34m(\u001b[0m\u001b[0mitem\u001b[0m\u001b[0;34m)\u001b[0m\u001b[0;34m\u001b[0m\u001b[0m\n\u001b[0m\u001b[1;32m   3521\u001b[0m             \u001b[0;32melse\u001b[0m\u001b[0;34m:\u001b[0m\u001b[0;34m\u001b[0m\u001b[0m\n\u001b[1;32m   3522\u001b[0m                 \u001b[0mindexer\u001b[0m \u001b[0;34m=\u001b[0m \u001b[0mnp\u001b[0m\u001b[0;34m.\u001b[0m\u001b[0marange\u001b[0m\u001b[0;34m(\u001b[0m\u001b[0mlen\u001b[0m\u001b[0;34m(\u001b[0m\u001b[0mself\u001b[0m\u001b[0;34m.\u001b[0m\u001b[0mitems\u001b[0m\u001b[0;34m)\u001b[0m\u001b[0;34m)\u001b[0m\u001b[0;34m[\u001b[0m\u001b[0misnull\u001b[0m\u001b[0;34m(\u001b[0m\u001b[0mself\u001b[0m\u001b[0;34m.\u001b[0m\u001b[0mitems\u001b[0m\u001b[0;34m)\u001b[0m\u001b[0;34m]\u001b[0m\u001b[0;34m\u001b[0m\u001b[0m\n",
      "\u001b[0;32m/usr/lib64/python2.7/site-packages/pandas/indexes/base.pyc\u001b[0m in \u001b[0;36mget_loc\u001b[0;34m(self, key, method, tolerance)\u001b[0m\n\u001b[1;32m   2104\u001b[0m                 \u001b[0;32mreturn\u001b[0m \u001b[0mself\u001b[0m\u001b[0;34m.\u001b[0m\u001b[0m_engine\u001b[0m\u001b[0;34m.\u001b[0m\u001b[0mget_loc\u001b[0m\u001b[0;34m(\u001b[0m\u001b[0mkey\u001b[0m\u001b[0;34m)\u001b[0m\u001b[0;34m\u001b[0m\u001b[0m\n\u001b[1;32m   2105\u001b[0m             \u001b[0;32mexcept\u001b[0m \u001b[0mKeyError\u001b[0m\u001b[0;34m:\u001b[0m\u001b[0;34m\u001b[0m\u001b[0m\n\u001b[0;32m-> 2106\u001b[0;31m                 \u001b[0;32mreturn\u001b[0m \u001b[0mself\u001b[0m\u001b[0;34m.\u001b[0m\u001b[0m_engine\u001b[0m\u001b[0;34m.\u001b[0m\u001b[0mget_loc\u001b[0m\u001b[0;34m(\u001b[0m\u001b[0mself\u001b[0m\u001b[0;34m.\u001b[0m\u001b[0m_maybe_cast_indexer\u001b[0m\u001b[0;34m(\u001b[0m\u001b[0mkey\u001b[0m\u001b[0;34m)\u001b[0m\u001b[0;34m)\u001b[0m\u001b[0;34m\u001b[0m\u001b[0m\n\u001b[0m\u001b[1;32m   2107\u001b[0m \u001b[0;34m\u001b[0m\u001b[0m\n\u001b[1;32m   2108\u001b[0m         \u001b[0mindexer\u001b[0m \u001b[0;34m=\u001b[0m \u001b[0mself\u001b[0m\u001b[0;34m.\u001b[0m\u001b[0mget_indexer\u001b[0m\u001b[0;34m(\u001b[0m\u001b[0;34m[\u001b[0m\u001b[0mkey\u001b[0m\u001b[0;34m]\u001b[0m\u001b[0;34m,\u001b[0m \u001b[0mmethod\u001b[0m\u001b[0;34m=\u001b[0m\u001b[0mmethod\u001b[0m\u001b[0;34m,\u001b[0m \u001b[0mtolerance\u001b[0m\u001b[0;34m=\u001b[0m\u001b[0mtolerance\u001b[0m\u001b[0;34m)\u001b[0m\u001b[0;34m\u001b[0m\u001b[0m\n",
      "\u001b[0;32mpandas/index.pyx\u001b[0m in \u001b[0;36mpandas.index.IndexEngine.get_loc (pandas/index.c:4160)\u001b[0;34m()\u001b[0m\n",
      "\u001b[0;32mpandas/index.pyx\u001b[0m in \u001b[0;36mpandas.index.IndexEngine.get_loc (pandas/index.c:4024)\u001b[0;34m()\u001b[0m\n",
      "\u001b[0;32mpandas/src/hashtable_class_helper.pxi\u001b[0m in \u001b[0;36mpandas.hashtable.PyObjectHashTable.get_item (pandas/hashtable.c:13161)\u001b[0;34m()\u001b[0m\n",
      "\u001b[0;32mpandas/src/hashtable_class_helper.pxi\u001b[0m in \u001b[0;36mpandas.hashtable.PyObjectHashTable.get_item (pandas/hashtable.c:13115)\u001b[0;34m()\u001b[0m\n",
      "\u001b[0;31mKeyError\u001b[0m: 0"
     ]
    }
   ],
   "source": [
    "df[0]"
   ]
  }
 ],
 "metadata": {
  "kernelspec": {
   "display_name": "Python 2",
   "language": "python",
   "name": "python2"
  },
  "language_info": {
   "codemirror_mode": {
    "name": "ipython",
    "version": 2
   },
   "file_extension": ".py",
   "mimetype": "text/x-python",
   "name": "python",
   "nbconvert_exporter": "python",
   "pygments_lexer": "ipython2",
   "version": "2.7.12"
  }
 },
 "nbformat": 4,
 "nbformat_minor": 1
}
